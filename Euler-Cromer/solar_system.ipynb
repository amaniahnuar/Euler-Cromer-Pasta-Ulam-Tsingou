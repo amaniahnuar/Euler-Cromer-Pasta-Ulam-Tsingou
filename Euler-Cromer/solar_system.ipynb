{
 "cells": [
  {
   "cell_type": "markdown",
   "metadata": {},
   "source": [
    "# Solar System: Inside Ovito\n",
    "In this effort, I am trying my best to build the simplest solar system and make it work to see in simulation in Ovito"
   ]
  },
  {
   "cell_type": "code",
   "execution_count": 1,
   "metadata": {},
   "outputs": [],
   "source": [
    "import numpy as np\n",
    "import matplotlib.pyplot as plt\n",
    "from scipy.integrate import solve_ivp\n"
   ]
  },
  {
   "cell_type": "code",
   "execution_count": 39,
   "metadata": {},
   "outputs": [],
   "source": [
    "def sp_to_xyz(sp):\n",
    "    # Takes a spherical-coordinate and return an xyz-coordinate\n",
    "    sp = np.array(sp)\n",
    "    return np.array([sp[0]*np.sin(np.radians(sp[2]))*np.cos(np.radians(sp[1])), sp[0]*np.sin(np.radians(sp[2]))*np.sin(np.radians(sp[1])), sp[0]*np.cos(np.radians(sp[2]))])\n",
    "def xyz_to_sp(xyz):\n",
    "    # Takes an xyz-coordinate and return spherical-coordinate\n",
    "    return np.array([np.linalg.norm(xyz),np.arctan2(xyz[1],xyz[0]),np.arcos(xzy[2],np.linalg.norm(xyz))])\n",
    "def derivs(t, currsp):\n",
    "    # Derivs function for sp coordinates\n",
    "    r,phi,theta = currsp\n",
    "    vcirc = np.sqrt(GM*(2/r-1/a))    # m/s\n",
    "    drdt = 0\n",
    "    dphidt = +vcirc\n",
    "    dthetadt = 0\n",
    "    return [drdt, dphidt, dthetadt]\n",
    "def Energy(currsp, m):\n",
    "    r,phi,theta = currsp\n",
    "    vcirc = np.sqrt(GM*(2/r-1/a))    # m/s\n",
    "    return 0.5*m*vcirc**2\n"
   ]
  },
  {
   "cell_type": "code",
   "execution_count": 12,
   "metadata": {},
   "outputs": [],
   "source": [
    "# Assigning constants for derivatives\n",
    "T = 1e3\n",
    "dt = 1\n",
    "time = [1,T]\n",
    "tarray = np.arange(1,T,1)\n"
   ]
  },
  {
   "cell_type": "code",
   "execution_count": 52,
   "metadata": {},
   "outputs": [],
   "source": [
    "# Assigning planets variabels in spherical coordinates\n",
    "merc_sp = np.array([0.3871*1.496e+11, 0, 90])\n",
    "a = 0.3871*1.496e+11\n",
    "GM = 2.2032e13\n",
    "sol_merc = np.transpose(solve_ivp(derivs, time, merc_sp,t_eval=tarray)).tolist()\n",
    "\n",
    "ven_sp = np.array([0.7233*1.496e+11, 0, 90])\n",
    "a = 0.7233*1.496e+11\n",
    "GM = 3.24859e14\n",
    "sol_ven = np.transpose(solve_ivp(derivs, time, ven_sp,t_eval=tarray)).tolist()\n",
    "\n",
    "earth_sp = np.array([1.000*1.496e+11, 0, 90]).tolist()\n",
    "a = 1.000*1.496e+11\n",
    "GM = 3.986004418e14\n",
    "sol_earth = np.transpose(solve_ivp(derivs, time, earth_sp, t_eval=tarray)).tolist()\n",
    "\n",
    "mars_sp = np.array([1.5273*1.496e+11, 0, 90])\n",
    "a = 1.5273*1.496e+11\n",
    "GM = 4.282837e13\n",
    "sol_mars = np.transpose(solve_ivp(derivs, time, mars_sp, t_eval=tarray)).tolist()\n",
    "\n",
    "jup_sp = np.array([5.2028*1.496e+11, 0, 90])\n",
    "a = 5.2028*1.496e+11\n",
    "GM = 1.26686534e17\n",
    "sol_jup = np.transpose(solve_ivp(derivs, time, jup_sp, t_eval=tarray)).tolist()\n",
    "\n",
    "sat_sp = np.array([9.5388*1.496e+11, 0, 90])\n",
    "a = 9.5388*1.496e+11\n",
    "GM = 3.7931187e16\n",
    "sol_sat = np.transpose(solve_ivp(derivs, time, sat_sp, t_eval=tarray)).tolist()\n",
    "\n",
    "ura_sp = np.array([19.1914*1.496e+11, 0, 90])\n",
    "a = 19.1914*1.496e+11\n",
    "GM = 5.793939e15\n",
    "sol_ura = np.transpose(solve_ivp(derivs, time, ura_sp, t_eval=tarray)).tolist()\n",
    "\n",
    "nep_sp = np.array([30.0611*1.496e+11, 0, 90])\n",
    "a = 30.0611*1.496e+11\n",
    "GM = 6.836529e15\n",
    "sol_nep = np.transpose(solve_ivp(derivs, time, nep_sp, t_eval=tarray)).tolist()\n",
    "\n",
    "plu_sp = np.array([39.482*1.496e+11, 0, 90])\n",
    "a = 39.482*1.496e+11\n",
    "GM = 8.71e11\n",
    "sol_plu = np.transpose(solve_ivp(derivs, time, plu_sp, t_eval=tarray)).tolist()\n"
   ]
  },
  {
   "cell_type": "code",
   "execution_count": 53,
   "metadata": {},
   "outputs": [],
   "source": [
    "# Calculate Energy\n",
    "m_merc=0.330e24\n",
    "a = 0.3871*1.496e+11\n",
    "GM = 2.2032e13\n",
    "e_merc = Energy(sol_merc.y,m_merc)\n",
    "\n",
    "m_ven=4.87e24\n",
    "a = 0.7233*1.496e+11\n",
    "GM = 3.24859e14\n",
    "e_ven = Energy(sol_ven.y,m_ven)\n",
    "\n",
    "m_earth=5.97e24\n",
    "a = 1.000*1.496e+11\n",
    "GM = 3.986004418e14\n",
    "e_earth = Energy(sol_earth.y,m_earth)\n",
    "\n",
    "m_mars=0.642e24\n",
    "a = 1.5273*1.496e+11\n",
    "GM = 4.282837e13\n",
    "e_mars = Energy(sol_mars.y,m_mars)\n",
    "\n",
    "m_jup=1898e24\n",
    "a = 5.2028*1.496e+11\n",
    "GM = 1.26686534e17\n",
    "e_jup = Energy(sol_jup.y,m_jup)\n",
    "\n",
    "m_sat=568e24\n",
    "a = 9.5388*1.496e+11\n",
    "GM = 3.7931187e16\n",
    "e_sat = Energy(sol_sat.y,m_sat)\n",
    "\n",
    "m_ura= 86.8e24\n",
    "a = 19.1914*1.496e+11\n",
    "GM = 5.793939e15\n",
    "e_ura = Energy(sol_ura.y,m_ura)\n",
    "\n",
    "m_nep = 102e24\n",
    "a = 30.0611*1.496e+11\n",
    "GM = 6.836529e15\n",
    "e_nep = Energy(sol_nep.y,m_nep)\n",
    "\n",
    "m_plu = 0.0146e24\n",
    "a = 39.482*1.496e+11\n",
    "GM = 8.71e11\n",
    "e_plu = Energy(sol_plu.y,m_plu)\n"
   ]
  },
  {
   "cell_type": "code",
   "execution_count": 54,
   "metadata": {},
   "outputs": [],
   "source": [
    "# Scale to make in a billionth times smaller\n",
    "scale = 10**-9\n",
    "# Change spherical to xyz\n",
    "sol_merc = sp_to_xyz(sol_merc.y)*scale\n",
    "sol_ven = sp_to_xyz(sol_ven.y)*scale\n",
    "sol_earth = sp_to_xyz(sol_earth.y)*scale\n",
    "sol_mars = sp_to_xyz(sol_mars.y)*scale\n",
    "sol_jup = sp_to_xyz(sol_jup.y)*scale\n",
    "sol_sat = sp_to_xyz(sol_sat.y)*scale\n",
    "sol_ura = sp_to_xyz(sol_ura.y)*scale\n",
    "sol_nep = sp_to_xyz(sol_nep.y)*scale\n",
    "sol_plu = sp_to_xyz(sol_plu.y)*scale\n"
   ]
  },
  {
   "cell_type": "code",
   "execution_count": 55,
   "metadata": {},
   "outputs": [],
   "source": [
    "f = open(\"solar_system_new.xyz\", \"+w\")\n",
    "for i in range(len(sol_earth[0])):\n",
    "    f.write(\"9\\nplanets for solar system\\n\")\n",
    "    f.write(str(1)+\" \"+str(sol_merc[0][i])+\" \"+str(sol_merc[1][i])+\" \"+str(sol_merc[2][i])+\" \"+str(e_merc[i])+\"\\n\")\n",
    "    f.write(str(2)+\" \"+str(sol_ven[0][i])+\" \"+str(sol_ven[1][i])+\" \"+str(sol_ven[2][i])+\" \"+str(e_ven[i])+\"\\n\")\n",
    "    f.write(str(3)+\" \"+str(sol_earth[0][i])+\" \"+str(sol_earth[1][i])+\" \"+str(sol_earth[2][i])+\" \"+str(e_earth[i])+\"\\n\")\n",
    "    f.write(str(4)+\" \"+str(sol_mars[0][i])+\" \"+str(sol_mars[1][i])+\" \"+str(sol_mars[2][i])+\" \"+str(e_mars[i])+\"\\n\")\n",
    "    f.write(str(5)+\" \"+str(sol_jup[0][i])+\" \"+str(sol_jup[1][i])+\" \"+str(sol_jup[2][i])+\" \"+str(e_jup[i])+\"\\n\")\n",
    "    f.write(str(6)+\" \"+str(sol_sat[0][i])+\" \"+str(sol_sat[1][i])+\" \"+str(sol_sat[2][i])+\" \"+str(e_sat[i])+\"\\n\")\n",
    "    f.write(str(7)+\" \"+str(sol_ura[0][i])+\" \"+str(sol_ura[1][i])+\" \"+str(sol_ura[2][i])+\" \"+str(e_ura[i])+\"\\n\")\n",
    "    f.write(str(8)+\" \"+str(sol_nep[0][i])+\" \"+str(sol_nep[1][i])+\" \"+str(sol_nep[2][i])+\" \"+str(e_nep[i])+\"\\n\")\n",
    "    f.write(str(9)+\" \"+str(sol_plu[0][i])+\" \"+str(sol_plu[1][i])+\" \"+str(sol_plu[2][i])+\" \"+str(e_plu[i])+\"\\n\")\n",
    "f.close()\n"
   ]
  },
  {
   "cell_type": "code",
   "execution_count": null,
   "metadata": {},
   "outputs": [],
   "source": []
  }
 ],
 "metadata": {
  "kernelspec": {
   "display_name": "Python 3",
   "language": "python",
   "name": "python3"
  },
  "language_info": {
   "codemirror_mode": {
    "name": "ipython",
    "version": 3
   },
   "file_extension": ".py",
   "mimetype": "text/x-python",
   "name": "python",
   "nbconvert_exporter": "python",
   "pygments_lexer": "ipython3",
   "version": "3.7.3"
  }
 },
 "nbformat": 4,
 "nbformat_minor": 2
}
